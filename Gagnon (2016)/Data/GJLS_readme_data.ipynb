{
 "cells": [
  {
   "cell_type": "markdown",
   "metadata": {},
   "source": [
    "# Creating the demographic and technology data\n",
    "\n",
    "This file creates the demographic and techonology data used in the paper \"Understanding the New Normal: The Role of Demographics\" Etienne Gagnon, David Lopez-Salido, and Benjamin Johannsen. The paper was accepted for publication in the IMF Economic Review in January 2021.\n",
    "\n",
    "Most demographic series in these replication materials are computed at both yearly and quarterly frequencies to allow for their use in the model with different period lengths. In the paper, only quarterly series are used. The files read original data from the folder 'RawData' and export the filtered files to the folder 'CleanData', where they will be read by the model files.\n",
    "\n",
    "This notebook calls, in turn, the following Jupyter notebooks. See these notebooks for the detail of our data manipulations. These notebooks are coded in Julia version 1.5.3.\n",
    "\n",
    "### MortalityRates.ipynb\n",
    "\n",
    "This notebook creates yearly and quarterly mortality rates from 1900 (the first decade of data) to 2220 (when the cohort born in 2100 has reached the maximum age) based on life-cycle tables published by Bell and Miller (2005).\n",
    "\n",
    "### TFP.ipynb\n",
    "\n",
    "This notebook creates quarterly and yearly series of the log change in total factor productivity. The main historical data come from Fernald (2014). The series is backcast and forecast using information from Shackleton (2013) and Gordon (2015), respectively.\n",
    "\n",
    "### Births.ipynb\n",
    "\n",
    "This notebook stitches birth data together from three different sources to compute yearly and quarterly series of historical estimates and projected live births over the 1900-2100 period.\n",
    "\n",
    "### Migration.ipynb\n",
    "\n",
    "This notebook computes net migration estimates that reconcile the Census' population figures with our mortality rate and live birth estimates. The end of the notebook also creates part of the yearly and quarterly distributions of population at the turn of 1900 in a way consistent with our net migration and mortality rate estimates in 1900.\n",
    "\n",
    "### EmploymentPopulationRatios.ipynb\n",
    "\n",
    "This notebook creates quarterly and yearly employment-population ratios by age and birth cohorts. It also produces charts that show differences in the evolution of employment rates by gender. The notebook makes use of the output of \"Migration.ipynb\", and thus must be executed afterwards. \n",
    "\n",
    "### FamilyDependencies.ipynb\n",
    "\n",
    "This notebook allocates births to their representative parents based on the historical shares of the total number of newborns by the age of their mothers. The notebook adjusts the age of the mother in a way that factors in the historical age difference between fathers and mothers, so that adults are representative of both genders. \n",
    "\n",
    "### PopulationTurnOf1900.ipynb\n",
    "\n",
    "This file uses information on older U.S. residents from the raw 1900 Census estimates to create yearly and quarterly population estimates for all age groups at the turn of 1900. It must be run after \"Migration.ipynb\" because it uses information on net migration patterns. It must also be run after \"FamilyDependencies.ipynb\" because it retrieves an estimate of the family dependency structure based on information for the early 20th century.\n",
    "\n",
    "### FertilityRates.ipynb\n",
    "\n",
    "This file first computes the population consistent with the population at the turn of 1900, the mortality rates, the net migration, and the birth series created in the above files. The counterfactual population can be compared to the actual population from the Census to ensure that the calcutions are consisent with actual population dynamics. The counterfactual and actual populations need not be identical period by period because of the moderate amount of smoothing that we introduce in light of our focus on low-frequency dynamics. The file then computes the end-of-period fertility rates by age of the representative adult. This information is used when solving the version of the model with backward-looking expectations."
   ]
  },
  {
   "cell_type": "code",
   "execution_count": null,
   "metadata": {},
   "outputs": [],
   "source": [
    "# If running Julia in Jupyter for the first time, you will need to load a number of packages to be \n",
    "# used by the kernet during execution. The lines below are examples.\n",
    "#import Pkg; \n",
    "#Pkg.add(\"DataFrames\")\n",
    "#Pkg.add(\"Missings\")\n",
    "#Pkg.add(\"CSV\")\n",
    "#Pkg.add(\"Plots\")\n",
    "#Pkg.add(\"Missings\")"
   ]
  },
  {
   "cell_type": "code",
   "execution_count": null,
   "metadata": {
    "scrolled": true
   },
   "outputs": [],
   "source": [
    "run(`jupyter nbconvert --to script MortalityRates.ipynb`)\n",
    "include(\"MortalityRates.jl\")\n",
    "run(`rm MortalityRates.jl`)"
   ]
  },
  {
   "cell_type": "code",
   "execution_count": null,
   "metadata": {},
   "outputs": [],
   "source": [
    "run(`jupyter nbconvert --to script TFP.ipynb`)\n",
    "include(\"TFP.jl\")\n",
    "run(`rm TFP.jl`)"
   ]
  },
  {
   "cell_type": "code",
   "execution_count": null,
   "metadata": {},
   "outputs": [],
   "source": [
    "run(`jupyter nbconvert --to script Births.ipynb`)\n",
    "include(\"Births.jl\")\n",
    "run(`rm Births.jl`)"
   ]
  },
  {
   "cell_type": "code",
   "execution_count": null,
   "metadata": {},
   "outputs": [],
   "source": [
    "run(`jupyter nbconvert --to script Migration.ipynb`)\n",
    "include(\"Migration.jl\")\n",
    "run(`rm Migration.jl`)"
   ]
  },
  {
   "cell_type": "code",
   "execution_count": null,
   "metadata": {},
   "outputs": [],
   "source": [
    "run(`jupyter nbconvert --to script EmploymentPopulationRatios.ipynb`)\n",
    "include(\"EmploymentPopulationRatios.jl\")\n",
    "run(`rm EmploymentPopulationRatios.jl`)"
   ]
  },
  {
   "cell_type": "code",
   "execution_count": null,
   "metadata": {},
   "outputs": [],
   "source": [
    "run(`jupyter nbconvert --to script FamilyDependencies.ipynb`)\n",
    "include(\"FamilyDependencies.jl\")\n",
    "run(`rm FamilyDependencies.jl`)"
   ]
  },
  {
   "cell_type": "code",
   "execution_count": null,
   "metadata": {},
   "outputs": [],
   "source": [
    "run(`jupyter nbconvert --to script PopulationTurnOf1900.ipynb`)\n",
    "include(\"PopulationTurnOf1900.jl\")\n",
    "run(`rm PopulationTurnOf1900.jl`)"
   ]
  },
  {
   "cell_type": "code",
   "execution_count": null,
   "metadata": {},
   "outputs": [],
   "source": [
    "run(`jupyter nbconvert --to script FertilityRates.ipynb`)\n",
    "include(\"FertilityRates.jl\")\n",
    "run(`rm FertilityRates.jl`)"
   ]
  }
 ],
 "metadata": {
  "kernelspec": {
   "display_name": "Julia 1.5.3",
   "language": "julia",
   "name": "julia-1.5"
  },
  "language_info": {
   "file_extension": ".jl",
   "mimetype": "application/julia",
   "name": "julia",
   "version": "1.5.3"
  }
 },
 "nbformat": 4,
 "nbformat_minor": 1
}
