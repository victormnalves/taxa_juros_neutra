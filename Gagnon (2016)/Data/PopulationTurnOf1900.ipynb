{
 "cells": [
  {
   "cell_type": "markdown",
   "metadata": {},
   "source": [
    "# Population at the Turn of 1900\n",
    "\n",
    "The distribution of population by age in the model evolves from period to period through births, deaths, and net migration, given an initial distribution of population at the turn of 1900. In the notebook \"Migration.ipynb\", we calculated this inital distribution by single year of age up to age 74 years in a way that is consistent with the Census Bureau's (smoothed) annual population estimates and our interpolation of Bell and Miller's (2005) mortality rates. Smoothed annual population data by single year of age for persons 75 years and older are not available for the first few decades of the 20th Century. In this notebook, we take advantage of raw population counts by single years of age up to 99 years old from the 1900 Census to fill in nearly all the missing data. In doing so, we make the identifying assumption that there is no net migration in the first half of 1900. This assumption is of limited consequence for our simulations because older individuals have almost no influence on the initial aggregate capital-labor ratio in the model given their relatively small number and their limited labor and capital endowments. Moreover, we reconcile any discrepancy in the initial distribution of population through our net migration calculations, which are detailed in \"Migration.ipynb\". \n",
    "\n",
    "We stitch the distribution based on raw Census counts with the pre-75 distribution recovered in \"Migration.ipynb\". The stitched distribution is exported to a CSV file for use in the model. We opt against using the raw Census counts for years earlier than 75 years old because there is apparent over-reporting of counts for ages ending in 5s and 0s. \n",
    "\n",
    "In addition to calculating an population distribution, this notebook calculates the accompanying parent and responsible-adult dependency structures. The age of the parent is set equal to the age of the mother plus half the age difference between men and women at time of first marriage. We assume that kids of parents aged less than 18 years old are dependents of their grandparents. \n",
    "\n",
    "## Data sources\n",
    "\n",
    "The raw Census counts for 1900 are found in the U.S. Census Bureau's \"Census of Population and Housing, 1900\", Volume 1: Population: Population of States and Territories, chapter 4.  The information is available in a PDF document at https://www.census.gov/prod/www/decennial.html. We manually entered the information in a the related CSV file read by this notebook. The file also makes use of our interpolated mortality rates, which are computed in \"MortalityRates.ipynb\".\n"
   ]
  },
  {
   "cell_type": "code",
   "execution_count": 1,
   "metadata": {},
   "outputs": [],
   "source": [
    "# Reading the raw 1900 Census data\n",
    "using DelimitedFiles\n",
    "population1900 = readdlm(\"RawData/Census_1900_raw_counts.csv\",',',skipstart=1)\n",
    "population1900[5,2:4]=sum(population1900[1:5,2:4],dims=1)\n",
    "population1900=population1900[5:end-1,1:4]\n",
    "population1900[1,1]=0;\n",
    "\n",
    "# Fitting a 4-th order polynomial in the (log of) distribution\n",
    "X = [ones(100,1) (0.5:100) (0.5:100).^2  (0.5:100).^3 (0.5:100).^4]\n",
    "Y = Array{Float64,1}(population1900[:,4])\n",
    "Y = log.(Y)\n",
    "b = inv(X'*X)*X'*Y\n",
    "\n",
    "# Projecting the age distribution\n",
    "ageY = 0.5:120\n",
    "ageQ = 0.125:0.25:120\n",
    "Proj_pop_raw1900_Y = exp.([ones(length(ageY),1) ageY ageY.^2 ageY.^3 ageY.^4]*b);\n",
    "Proj_pop_raw1900_Q = exp.([ones(length(ageQ),1) ageQ ageQ.^2 ageQ.^3 ageQ.^4]*b);"
   ]
  },
  {
   "cell_type": "code",
   "execution_count": 2,
   "metadata": {},
   "outputs": [],
   "source": [
    "# Backcasting the distribution in 1899 from yearly mortality rates\n",
    "# We know from the smoothed Census that the population aged 75+ years is 899,000 in \n",
    "# 1900. Below we adjust the level of the projected series to match that figure,\n",
    "# thus ensuring a smooth stitching point.\n",
    "Proj_pop_raw1900_Y = Proj_pop_raw1900_Y*899000/sum(Proj_pop_raw1900_Y[76:end])\n",
    "Γ_AGEy_PERy = readdlm(\"CleanData/interp_death_rate_1900_2220_Y.csv\", ',');\n",
    "population_1899_raw_Y = [Proj_pop_raw1900_Y[2:end,1]./(1.0.-Γ_AGEy_PERy[2:end,1]) ; 0];"
   ]
  },
  {
   "cell_type": "code",
   "execution_count": 3,
   "metadata": {},
   "outputs": [],
   "source": [
    "# Backcasting the distribution in 1899 from quarterly mortality rates\n",
    "Proj_pop_raw1900_Q=Proj_pop_raw1900_Q./sum(Proj_pop_raw1900_Q[301:end],dims=1)*(899000.0*4.0)\n",
    "Γ_AGEq_PERq = readdlm(\"CleanData/interp_death_rate_1900_2220_Q.csv\", ',');\n",
    "population_1899_raw_Q = zeros(480,1)\n",
    "age_quarters=0.25:0.25:120\n",
    "population_1899_raw_Q[1:398]=Proj_pop_raw1900_Q[3:400]./((1.0.-Γ_AGEq_PERq[3:400,2]).^0.25)./((1.0.-Γ_AGEq_PERq[2:399,1]).^0.25)\n",
    "population_1899_raw_Q=population_1899_raw_Q/4.0 # Removing annualization\n",
    "\n",
    "# Saving the distribution based on raw Census counts\n",
    "writedlm(\"CleanData/population_1899_raw_Y.csv\",[ageY population_1899_raw_Y], header = false, ',')\n",
    "writedlm(\"CleanData/population_1899_raw_Q.csv\",[ageQ population_1899_raw_Q], header = false, ',')"
   ]
  },
  {
   "cell_type": "code",
   "execution_count": 4,
   "metadata": {},
   "outputs": [],
   "source": [
    "# Combining smoothed and raw estimates of the population at the turn of 1900\n",
    "population_1899_smoothed_Y = readdlm(\"CleanData/population_1899_smoothed_Y.csv\", ',');\n",
    "population_1899_smoothed_Q = readdlm(\"CleanData/population_1899_smoothed_Q.csv\", ',');\n",
    "population_1899_Y = [population_1899_smoothed_Y[1:73,2] ; population_1899_raw_Y[74:end]]\n",
    "population_1899_Q = [population_1899_smoothed_Q[1:297,2]; population_1899_raw_Q[298:end]]\n",
    "\n",
    "# Saving the stitched distribution based on raw Census counts\n",
    "writedlm(\"CleanData/population_1899_Y.csv\",population_1899_Y, header = false, ',')\n",
    "writedlm(\"CleanData/population_1899_Q.csv\",population_1899_Q, header = false, ',')"
   ]
  },
  {
   "cell_type": "markdown",
   "metadata": {},
   "source": [
    "### Estimating the family dependency structure"
   ]
  },
  {
   "cell_type": "code",
   "execution_count": 5,
   "metadata": {},
   "outputs": [],
   "source": [
    "# Reading the share of births by age of mother and age difference between married men and women \n",
    "share_births_1900 = readdlm(\"CleanData/share_births_mothers_Y.csv\", header = false, ',')[:,1];\n",
    "share_births_1900Q1 = readdlm(\"CleanData/share_births_mothers_Q.csv\", header = false, ',')[:,1];\n",
    "marriageAgeDiff_1900 = readdlm(\"CleanData/marriageAgeDiff_Y.csv\", header = false, ',')[1,1];\n",
    "marriageAgeDiff_1900Q1 = readdlm(\"CleanData/marriageAgeDiff_Q.csv\", header = false, ',')[1,1];\n",
    "\n",
    "# Allocating children to biological mothers\n",
    "Mother_child_1899_Y = zeros(120,18)\n",
    "Mother_child_1899_Q = zeros(480,72)\n",
    "for ak = 1:18\n",
    "    Mother_child_1899_Y[:,ak] = [zeros(14+ak-1,1) ; share_births_1900 ; zeros(120-14-ak+1-length(share_births_1900),)]*population_1899_Y[ak,1]\n",
    "end\n",
    "for ak = 1:72\n",
    "    Mother_child_1899_Q[:,ak] = [zeros(56+ak-1,1) ; share_births_1900Q1 ; zeros(480-56-ak+1-length(share_births_1900Q1),)]*population_1899_Q[ak,1]\n",
    "end\n",
    "\n",
    "# Allocating children to responsible adults (with split of age difference between married men and women)\n",
    "# Dependents are allocated proportionally to the distance between the two nearest age bins\n",
    "Parent_child_1899_Y = zeros(120,18);\n",
    "Parent_child_1899_Q = zeros(480,72);\n",
    "for ak = 1:18\n",
    "    iparent = (14:49) .+ ak .+ Int64(floor(marriageAgeDiff_1900/2.0))\n",
    "    Parent_child_1899_Y[iparent,ak] = (1.0 - marriageAgeDiff_1900/2.0 + floor(marriageAgeDiff_1900/2.0))*Mother_child_1899_Y[(14:49).+ak,ak]\n",
    "    Parent_child_1899_Y[iparent.+1,ak] = Parent_child_1899_Y[iparent.+1,ak]+(marriageAgeDiff_1900/2.0-floor(marriageAgeDiff_1900/2.0))*Mother_child_1899_Y[(14:49).+ak,ak]\n",
    "end\n",
    "for ak = 1:72\n",
    "    iparent = (56:199) .+ ak .+ Int64(floor(2.0*marriageAgeDiff_1900Q1))\n",
    "    Parent_child_1899_Q[iparent,ak] = (1.0.-(2.0*marriageAgeDiff_1900Q1-floor(2.0*marriageAgeDiff_1900Q1)))*Mother_child_1899_Q[(56:199).+ak,ak]\n",
    "    Parent_child_1899_Q[iparent.+1,ak] = Parent_child_1899_Q[iparent.+1,ak] + (2.0*marriageAgeDiff_1900Q1-floor(2.0*marriageAgeDiff_1900Q1))*Mother_child_1899_Q[(56:199).+ak,ak]\n",
    "end\n",
    "\n",
    "writedlm(\"CleanData/parent_child_1899_Y.csv\",Parent_child_1899_Y, header = false, ',')\n",
    "writedlm(\"CleanData/parent_child_1899_Q.csv\",Parent_child_1899_Q, header = false, ',')"
   ]
  },
  {
   "cell_type": "code",
   "execution_count": 6,
   "metadata": {},
   "outputs": [],
   "source": [
    "# Allocating kids of underaged parents to their responsible adult\n",
    "Dependents_1899_Y = zeros(120,18);\n",
    "Dependents_1899_Q = zeros(480,72);\n",
    "Dependents_1899_Y[19:end,:] = Parent_child_1899_Y[19:end,:]\n",
    "Dependents_1899_Q[73:end,:] = Parent_child_1899_Q[73:end,:];\n",
    "\n",
    "for am = 15:18\n",
    "    for ak=1:(am-14)\n",
    "        Dependents_1899_Y[19:end,ak] = Dependents_1899_Y[19:end,ak] + Parent_child_1899_Y[am,ak]*(Parent_child_1899_Y[19:end,am]./sum(Parent_child_1899_Y[19:end,am]))\n",
    "    end\n",
    "end\n",
    "for am = 57:72\n",
    "    for ak=1:(am-56)\n",
    "        Dependents_1899_Q[73:end,ak] = Dependents_1899_Q[73:end,ak] + Parent_child_1899_Q[am,ak]*(Parent_child_1899_Q[73:end,am]./sum(Parent_child_1899_Q[73:end,am]))\n",
    "    end\n",
    "end\n",
    "\n",
    "# Writing to CSV files\n",
    "writedlm(\"CleanData/dependents_1899_Y.csv\",Dependents_1899_Y, header = false, ',')\n",
    "writedlm(\"CleanData/dependents_1899_Q.csv\",Dependents_1899_Q, header = false, ',')"
   ]
  },
  {
   "cell_type": "code",
   "execution_count": 7,
   "metadata": {},
   "outputs": [],
   "source": [
    "# Changing permissions\n",
    "run(`chmod 664 CleanData/population_1899_raw_Y.csv`);\n",
    "run(`chmod 664 CleanData/population_1899_raw_Q.csv`);\n",
    "run(`chmod 664 CleanData/population_1899_Y.csv`);\n",
    "run(`chmod 664 CleanData/population_1899_Q.csv`);\n",
    "run(`chmod 664 CleanData/parent_child_1899_Y.csv`);\n",
    "run(`chmod 664 CleanData/parent_child_1899_Q.csv`);\n",
    "run(`chmod 664 CleanData/dependents_1899_Y.csv`);\n",
    "run(`chmod 664 CleanData/dependents_1899_Q.csv`);"
   ]
  }
 ],
 "metadata": {
  "kernelspec": {
   "display_name": "Julia 1.5.3",
   "language": "julia",
   "name": "julia-1.5"
  },
  "language_info": {
   "file_extension": ".jl",
   "mimetype": "application/julia",
   "name": "julia",
   "version": "1.5.3"
  }
 },
 "nbformat": 4,
 "nbformat_minor": 1
}
