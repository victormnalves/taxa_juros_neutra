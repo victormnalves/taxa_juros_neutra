{
 "cells": [
  {
   "cell_type": "markdown",
   "metadata": {},
   "source": [
    "# Fertility rates by age of parent\n",
    "\n",
    "\n",
    "The file begins by computing a counterfactual end-of-period population consistent with the population prevailing at the end of 1899, mortality rates, net migration, and live births created in the earlier files. The counterfactual population is needed to know how many adults of a given age are present at the end of each period. The counterfactual population can be compared to the actual population from the Census Bureau to ensure that the calculations are consisent with actual population dynamics. The counterfactual and actual populations need not be identical period by period, however, because of the moderate amount of smoothing that we introduce in light of our focus on low-frequency dynamics. \n",
    "\n",
    "The file then computes the end-of-period fertility rates by age of the representative adult. This information is used when solving a version of the model with backward-looking expectations. The fertility rates by age of parent series are measured at the end of the period as ratios featuring, on the numerator, the number of surviving babies born of parents of a given age, and, on the denominator, the number of survivng adults of that age:\n",
    "\n",
    "$$Fertitlity\\_rate\\_adult_{age,t} = \\frac{Population_{0,t} \\times Share\\_baby\\_adult_{age,t}}{Population_{age,t}}.$$\n",
    "\n",
    "The variable $Share\\_baby\\_adult_{age,t}$ is computed by allocating babies to their parents taking into account the age of the mother and the average age difference between men and women at first marriage.\n",
    "\n",
    "Our fertility rate statistics apply to representative adults whereas official fertility rates typically apply to mothers. Moreover, our fertility rate series contain an adjustment for the survival of parents, which need not be present in official fertility rate statistics. Thus, the two fertility rate series need not be comparable."
   ]
  },
  {
   "cell_type": "markdown",
   "metadata": {},
   "source": [
    "### Counterfactual population (annual)"
   ]
  },
  {
   "cell_type": "code",
   "execution_count": null,
   "metadata": {},
   "outputs": [],
   "source": [
    "# Read mortality rates, population end of 1899, live births, and net migration\n",
    "using DelimitedFiles\n",
    "births_Y = readdlm(\"CleanData/births_Y.csv\", ',');\n",
    "netmigration_Y = readdlm(\"CleanData/netmigration_Y.csv\", ',');\n",
    "Γ_AGEy_PERy = readdlm(\"CleanData/interp_death_rate_1900_2220_Y.csv\", ',');\n",
    "population_1899_Y = readdlm(\"CleanData/population_1899_Y.csv\", ',');\n",
    "\n",
    "# Iteratively construct population (first period)\n",
    "Population_counterfactual_Y = zeros(size(netmigration_Y));\n",
    "Population_counterfactual_Y[1,1] = (births_Y[1,1] + netmigration_Y[1,1])*(1-Γ_AGEy_PERy[1,1])\n",
    "Population_counterfactual_Y[2:end,1] = (population_1899_Y[1:end-1,1]+netmigration_Y[2:end,1]).*(1.0.-Γ_AGEy_PERy[2:end,1])\n",
    "\n",
    "# Iteratively construct population (subsequent periods)\n",
    "for t=2:size(netmigration_Y,2)\n",
    "    Population_counterfactual_Y[1,t] = (births_Y[t,1] + netmigration_Y[1,t])*(1-Γ_AGEy_PERy[1,t])\n",
    "    Population_counterfactual_Y[2:end,t] = (Population_counterfactual_Y[1:end-1,t-1]+netmigration_Y[2:end,t]).*(1.0.-Γ_AGEy_PERy[2:end,t])\n",
    "end\n",
    "\n",
    "# Writing population\n",
    "writedlm(\"CleanData/population_counterfactual_Y.csv\", Population_counterfactual_Y, header = false, ',')"
   ]
  },
  {
   "cell_type": "markdown",
   "metadata": {},
   "source": [
    "### Counterfactual population (quarterly)"
   ]
  },
  {
   "cell_type": "code",
   "execution_count": null,
   "metadata": {},
   "outputs": [],
   "source": [
    "# Read mortality rates, population end of 1899, live births, and net migration\n",
    "births_Q = readdlm(\"CleanData/births_Q_annualized.csv\", ',');\n",
    "netmigration_Q = readdlm(\"CleanData/netmigration_Q.csv\", ',');\n",
    "Γ_AGEq_PERq = readdlm(\"CleanData/interp_death_rate_1900_2220_Q.csv\", ',');\n",
    "population_1899_Q = readdlm(\"CleanData/population_1899_Q.csv\", ',');\n",
    "\n",
    "# Iteratively construct population (first period)\n",
    "Population_counterfactual_Q = zeros(size(netmigration_Q));\n",
    "Population_counterfactual_Q[1,1] = (births_Q[1,1]/4 + netmigration_Q[1,1])*((1.0.-Γ_AGEq_PERq[1,1]).^0.25)\n",
    "Population_counterfactual_Q[2:end,1] = (population_1899_Q[1:end-1,1]+netmigration_Q[2:end,1]).*((1.0.-Γ_AGEq_PERq[2:end,1]).^0.25)\n",
    "\n",
    "# Iteratively construct population (subsequent periods)\n",
    "for t=2:size(netmigration_Q,2)\n",
    "    Population_counterfactual_Q[1,t] = (births_Q[t,1]/4 + netmigration_Q[1,t])*((1-Γ_AGEq_PERq[1,t])^0.25)\n",
    "    Population_counterfactual_Q[2:end,t] = (Population_counterfactual_Q[1:end-1,t-1]+netmigration_Q[2:end,t]).*((1.0.-Γ_AGEq_PERq[2:end,t]).^0.25)\n",
    "end\n",
    "\n",
    "# Writing population\n",
    "writedlm(\"CleanData/population_counterfactual_Q.csv\", Population_counterfactual_Q, header = false, ',')"
   ]
  },
  {
   "cell_type": "markdown",
   "metadata": {},
   "source": [
    "### Fertility rates (annual)"
   ]
  },
  {
   "cell_type": "code",
   "execution_count": null,
   "metadata": {},
   "outputs": [],
   "source": [
    "# Declaring matrices of results\n",
    "Parent_fertility_Y = zeros(size(netmigration_Y));\n",
    "Parent_newborns_Y = zeros(size(netmigration_Y));\n",
    "\n",
    "# Reading share of births by age of mother\n",
    "share_births_mothers_Y = readdlm(\"CleanData/share_births_mothers_Y.csv\", ',');\n",
    "MarriageAgeDiff_Y = readdlm(\"CleanData/marriageAgeDiff_Y.csv\", ',');\n",
    "\n",
    "# Allocating births by age of parent (with smoothing of fractional age difference across age bins)\n",
    "for tt=1:size(netmigration_Y,2)\n",
    "    Parent_newborns_Y[Array{Int64,1}(collect(15:50).+floor(MarriageAgeDiff_Y[tt,1]/2)),tt] = (1-rem(MarriageAgeDiff_Y[tt,1]/2,1))*(births_Y[tt,1]+netmigration_Y[1,tt])*share_births_mothers_Y[:,tt]\n",
    "    Parent_newborns_Y[Array{Int64,1}(collect(15:50).+ceil( MarriageAgeDiff_Y[tt,1]/2)),tt] = Parent_newborns_Y[Array{Int64,1}(collect(15:50).+ceil(MarriageAgeDiff_Y[tt,1]/2)),tt] + rem(MarriageAgeDiff_Y[tt,1]/2,1)*(births_Y[tt]+netmigration_Y[1,tt])*share_births_mothers_Y[:,tt]\n",
    "    Parent_newborns_Y[:,tt] = Parent_newborns_Y[:,tt]*(1.0.-Γ_AGEy_PERy[1,tt])\n",
    "    Parent_fertility_Y[:,tt] = Parent_newborns_Y[:,tt]./Population_counterfactual_Y[:,tt]\n",
    "end\n",
    "\n",
    "# Writing fertility rates\n",
    "writedlm(\"CleanData/parent_fertility_Y.csv\", Parent_fertility_Y, header = false, ',')"
   ]
  },
  {
   "cell_type": "markdown",
   "metadata": {},
   "source": [
    "### Fertility rates (quarterly)"
   ]
  },
  {
   "cell_type": "code",
   "execution_count": null,
   "metadata": {},
   "outputs": [],
   "source": [
    "# Declaring matrices of results\n",
    "Parent_fertility_Q = zeros(size(netmigration_Q));\n",
    "Parent_newborns_Q = zeros(size(netmigration_Q));\n",
    "\n",
    "# Reading share of births by age of mother\n",
    "share_births_mothers_Q = readdlm(\"CleanData/share_births_mothers_Q.csv\", ',');\n",
    "MarriageAgeDiff_Q = readdlm(\"CleanData/marriageAgeDiff_Q.csv\", ',')\n",
    "\n",
    "# Allocating births by age of parent (with smoothing of fractional age difference across age bins)\n",
    "for qq=1:size(netmigration_Q,2)\n",
    "    Parent_newborns_Q[Array{Int64,1}(collect(57:200).+floor(MarriageAgeDiff_Q[qq,1]*2.0)),qq] = (0.25-rem(MarriageAgeDiff_Q[qq,1],0.25))/0.25*(births_Q[qq,1]/4+netmigration_Q[1,qq])*share_births_mothers_Q[:,qq]\n",
    "    Parent_newborns_Q[Array{Int64,1}(collect(57:200).+ ceil(MarriageAgeDiff_Q[qq,1]*2.0)),qq] = Parent_newborns_Q[Array{Int64,1}(collect(57:200).+ceil(MarriageAgeDiff_Q[qq,1]*2.0)),qq] + rem(MarriageAgeDiff_Q[qq,1],0.25)/0.25*(births_Q[qq]/4+netmigration_Q[1,qq])*share_births_mothers_Q[:,qq]\n",
    "    Parent_newborns_Q[:,qq] = Parent_newborns_Q[:,qq].*(1.0.-Γ_AGEq_PERq[1,qq]).^(0.25)\n",
    "    Parent_fertility_Q[:,qq] = Parent_newborns_Q[:,qq]./Population_counterfactual_Q[:,qq]\n",
    "end\n",
    "\n",
    "# Writing fertility rates\n",
    "writedlm(\"CleanData/parent_fertility_Q.csv\", Parent_fertility_Q, header = false, ',')"
   ]
  },
  {
   "cell_type": "code",
   "execution_count": null,
   "metadata": {},
   "outputs": [],
   "source": [
    "# Changing permissions\n",
    "run(`chmod 664 CleanData/population_counterfactual_Y.csv`);\n",
    "run(`chmod 664 CleanData/population_counterfactual_Q.csv`);\n",
    "run(`chmod 664 CleanData/parent_fertility_Y.csv`);\n",
    "run(`chmod 664 CleanData/parent_fertility_Q.csv`);"
   ]
  }
 ],
 "metadata": {
  "kernelspec": {
   "display_name": "Julia 1.5.3",
   "language": "julia",
   "name": "julia-1.5"
  },
  "language_info": {
   "file_extension": ".jl",
   "mimetype": "application/julia",
   "name": "julia",
   "version": "1.5.3"
  }
 },
 "nbformat": 4,
 "nbformat_minor": 1
}
