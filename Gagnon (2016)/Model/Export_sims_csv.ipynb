{
 "cells": [
  {
   "cell_type": "code",
   "execution_count": 4,
   "metadata": {},
   "outputs": [
    {
     "name": "stderr",
     "output_type": "stream",
     "text": [
      "┌ Info: Precompiling JLD [4138dd39-2aa7-5051-a626-17a0bb65d9c8]\n",
      "└ @ Base loading.jl:1278\n",
      "┌ Info: Precompiling DataFrames [a93c6f00-e57d-5684-b7b6-d8193f3e46c0]\n",
      "└ @ Base loading.jl:1278\n",
      "┌ Info: Precompiling CSV [336ed68f-0bac-5ca0-87d4-7b16caf5d00b]\n",
      "└ @ Base loading.jl:1278\n"
     ]
    },
    {
     "ename": "LoadError",
     "evalue": "LoadError: File ../Rstar_sims/calibeta_epsilon65_eta76_dZ0_dep_betafixed.jld cannot be found\nin expression starting at /Users/etigag/Documents/Recherche/Pandemic/GJLS_20200928/Model/plotting_setup.jl:87",
     "output_type": "error",
     "traceback": [
      "LoadError: File ../Rstar_sims/calibeta_epsilon65_eta76_dZ0_dep_betafixed.jld cannot be found\nin expression starting at /Users/etigag/Documents/Recherche/Pandemic/GJLS_20200928/Model/plotting_setup.jl:87",
      "",
      "Stacktrace:",
      " [1] error(::String, ::String, ::String) at ./error.jl:42",
      " [2] jldopen(::String, ::Bool, ::Bool, ::Bool, ::Bool, ::Bool; mmaparrays::Bool, compatible::Bool, compress::Bool) at /Users/etigag/.julia/packages/JLD/jeGJb/src/JLD.jl:153",
      " [3] jldopen(::String, ::String; mmaparrays::Bool, compatible::Bool, compress::Bool) at /Users/etigag/.julia/packages/JLD/jeGJb/src/JLD.jl:231",
      " [4] jldopen(::String, ::String) at /Users/etigag/.julia/packages/JLD/jeGJb/src/JLD.jl:231",
      " [5] jldopen(::var\"#12#16\", ::String, ::Vararg{String,N} where N; kws::Base.Iterators.Pairs{Union{},Union{},Tuple{},NamedTuple{(),Tuple{}}}) at /Users/etigag/.julia/packages/JLD/jeGJb/src/JLD.jl:241",
      " [6] jldopen at /Users/etigag/.julia/packages/JLD/jeGJb/src/JLD.jl:241 [inlined]",
      " [7] get_series(::String; writeparentchild::Bool) at /Users/etigag/Documents/Recherche/Pandemic/GJLS_20200928/Model/plotting_setup.jl:8",
      " [8] exportdata(::String; writeparentchild::Bool) at /Users/etigag/Documents/Recherche/Pandemic/GJLS_20200928/Model/plotting_setup.jl:71",
      " [9] exportdata(::String) at /Users/etigag/Documents/Recherche/Pandemic/GJLS_20200928/Model/plotting_setup.jl:71",
      " [10] top-level scope at /Users/etigag/Documents/Recherche/Pandemic/GJLS_20200928/Model/plotting_setup.jl:87",
      " [11] include(::String) at ./client.jl:457",
      " [12] top-level scope at In[4]:1",
      " [13] include_string(::Function, ::Module, ::String, ::String) at ./loading.jl:1091"
     ]
    }
   ],
   "source": [
    "include(\"plotting_setup.jl\")"
   ]
  },
  {
   "cell_type": "code",
   "execution_count": null,
   "metadata": {},
   "outputs": [],
   "source": []
  }
 ],
 "metadata": {
  "kernelspec": {
   "display_name": "Julia 1.5.2",
   "language": "julia",
   "name": "julia-1.5"
  },
  "language_info": {
   "file_extension": ".jl",
   "mimetype": "application/julia",
   "name": "julia",
   "version": "1.5.2"
  }
 },
 "nbformat": 4,
 "nbformat_minor": 2
}
